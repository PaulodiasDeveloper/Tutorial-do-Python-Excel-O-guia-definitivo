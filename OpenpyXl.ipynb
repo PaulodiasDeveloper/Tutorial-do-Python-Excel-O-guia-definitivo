{
 "cells": [
  {
   "cell_type": "markdown",
   "metadata": {},
   "source": [
    "# Workbook e Wokshet    "
   ]
  },
  {
   "cell_type": "markdown",
   "metadata": {},
   "source": [
    "## Criar uma workbook"
   ]
  },
  {
   "cell_type": "code",
   "execution_count": 12,
   "metadata": {},
   "outputs": [],
   "source": [
    "from openpyxl import Workbook"
   ]
  },
  {
   "cell_type": "code",
   "execution_count": 13,
   "metadata": {},
   "outputs": [],
   "source": [
    "wb = Workbook()\n",
    "ws = wb.active"
   ]
  },
  {
   "cell_type": "code",
   "execution_count": 14,
   "metadata": {},
   "outputs": [
    {
     "data": {
      "text/plain": [
       "'Sheet'"
      ]
     },
     "execution_count": 14,
     "metadata": {},
     "output_type": "execute_result"
    }
   ],
   "source": [
    "# Título da Planilha\n",
    "ws.title"
   ]
  },
  {
   "cell_type": "code",
   "execution_count": 15,
   "metadata": {},
   "outputs": [],
   "source": [
    "# Mudar título da planilha\n",
    "ws.title = \"Minha Planilha\""
   ]
  },
  {
   "cell_type": "code",
   "execution_count": 16,
   "metadata": {},
   "outputs": [
    {
     "data": {
      "text/plain": [
       "'Minha Planilha'"
      ]
     },
     "execution_count": 16,
     "metadata": {},
     "output_type": "execute_result"
    }
   ],
   "source": [
    "# Mostrar título da planilha\n",
    "ws.title"
   ]
  },
  {
   "cell_type": "code",
   "execution_count": 28,
   "metadata": {},
   "outputs": [],
   "source": [
    "# Criar uma planilha\n",
    "ws1 = wb.create_chartsheet('teste',0)"
   ]
  },
  {
   "cell_type": "code",
   "execution_count": 29,
   "metadata": {},
   "outputs": [
    {
     "data": {
      "text/plain": [
       "['teste2', 'teste', 'teste1', 'Minha Planilha']"
      ]
     },
     "execution_count": 29,
     "metadata": {},
     "output_type": "execute_result"
    }
   ],
   "source": [
    "wb.sheetnames"
   ]
  },
  {
   "cell_type": "code",
   "execution_count": 30,
   "metadata": {},
   "outputs": [
    {
     "name": "stdout",
     "output_type": "stream",
     "text": [
      "teste2\n",
      "teste\n",
      "teste1\n",
      "Minha Planilha\n"
     ]
    }
   ],
   "source": [
    "# Pecorre as planilhas\n",
    "for w in wb.sheetnames:\n",
    "    print(w)"
   ]
  },
  {
   "cell_type": "code",
   "execution_count": 31,
   "metadata": {},
   "outputs": [],
   "source": [
    "# Trocar a tabcolor da planilha\n",
    "ws.sheet_properties.tabColor = \"1072BA\""
   ]
  },
  {
   "cell_type": "code",
   "execution_count": 32,
   "metadata": {},
   "outputs": [],
   "source": [
    "wb.save(\"teste.xlsx\")"
   ]
  },
  {
   "cell_type": "markdown",
   "metadata": {},
   "source": [
    "## Acessando dados da planilha"
   ]
  },
  {
   "cell_type": "code",
   "execution_count": 45,
   "metadata": {},
   "outputs": [],
   "source": [
    "from openpyxl import load_workbook"
   ]
  },
  {
   "cell_type": "code",
   "execution_count": 47,
   "metadata": {},
   "outputs": [
    {
     "ename": "AttributeError",
     "evalue": "'list' object has no attribute 'find'",
     "output_type": "error",
     "traceback": [
      "\u001b[31m---------------------------------------------------------------------------\u001b[39m",
      "\u001b[31mAttributeError\u001b[39m                            Traceback (most recent call last)",
      "\u001b[36mCell\u001b[39m\u001b[36m \u001b[39m\u001b[32mIn[47]\u001b[39m\u001b[32m, line 2\u001b[39m\n\u001b[32m      1\u001b[39m  \u001b[38;5;66;03m# Carregar o arquivo Excel\u001b[39;00m\n\u001b[32m----> \u001b[39m\u001b[32m2\u001b[39m wb = \u001b[43mload_workbook\u001b[49m\u001b[43m(\u001b[49m\u001b[33;43m\"\u001b[39;49m\u001b[33;43mteste.xlsx\u001b[39;49m\u001b[33;43m\"\u001b[39;49m\u001b[43m)\u001b[49m\n\u001b[32m      3\u001b[39m \u001b[38;5;28mprint\u001b[39m(\u001b[33m\"\u001b[39m\u001b[33mArquivo carregado com sucesso!\u001b[39m\u001b[33m\"\u001b[39m)\n",
      "\u001b[36mFile \u001b[39m\u001b[32mc:\\Users\\Paulo Roberto\\Downloads\\myenv312\\Lib\\site-packages\\openpyxl\\reader\\excel.py:348\u001b[39m, in \u001b[36mload_workbook\u001b[39m\u001b[34m(filename, read_only, keep_vba, data_only, keep_links, rich_text)\u001b[39m\n\u001b[32m    318\u001b[39m \u001b[38;5;250m\u001b[39m\u001b[33;03m\"\"\"Open the given filename and return the workbook\u001b[39;00m\n\u001b[32m    319\u001b[39m \n\u001b[32m    320\u001b[39m \u001b[33;03m:param filename: the path to open or a file-like object\u001b[39;00m\n\u001b[32m   (...)\u001b[39m\u001b[32m    344\u001b[39m \n\u001b[32m    345\u001b[39m \u001b[33;03m\"\"\"\u001b[39;00m\n\u001b[32m    346\u001b[39m reader = ExcelReader(filename, read_only, keep_vba,\n\u001b[32m    347\u001b[39m                      data_only, keep_links, rich_text)\n\u001b[32m--> \u001b[39m\u001b[32m348\u001b[39m \u001b[43mreader\u001b[49m\u001b[43m.\u001b[49m\u001b[43mread\u001b[49m\u001b[43m(\u001b[49m\u001b[43m)\u001b[49m\n\u001b[32m    349\u001b[39m \u001b[38;5;28;01mreturn\u001b[39;00m reader.wb\n",
      "\u001b[36mFile \u001b[39m\u001b[32mc:\\Users\\Paulo Roberto\\Downloads\\myenv312\\Lib\\site-packages\\openpyxl\\reader\\excel.py:303\u001b[39m, in \u001b[36mExcelReader.read\u001b[39m\u001b[34m(self)\u001b[39m\n\u001b[32m    301\u001b[39m apply_stylesheet(\u001b[38;5;28mself\u001b[39m.archive, \u001b[38;5;28mself\u001b[39m.wb)\n\u001b[32m    302\u001b[39m action = \u001b[33m\"\u001b[39m\u001b[33mread worksheets\u001b[39m\u001b[33m\"\u001b[39m\n\u001b[32m--> \u001b[39m\u001b[32m303\u001b[39m \u001b[38;5;28;43mself\u001b[39;49m\u001b[43m.\u001b[49m\u001b[43mread_worksheets\u001b[49m\u001b[43m(\u001b[49m\u001b[43m)\u001b[49m\n\u001b[32m    304\u001b[39m action = \u001b[33m\"\u001b[39m\u001b[33massign names\u001b[39m\u001b[33m\"\u001b[39m\n\u001b[32m    305\u001b[39m \u001b[38;5;28mself\u001b[39m.parser.assign_names()\n",
      "\u001b[36mFile \u001b[39m\u001b[32mc:\\Users\\Paulo Roberto\\Downloads\\myenv312\\Lib\\site-packages\\openpyxl\\reader\\excel.py:219\u001b[39m, in \u001b[36mExcelReader.read_worksheets\u001b[39m\u001b[34m(self)\u001b[39m\n\u001b[32m    216\u001b[39m     \u001b[38;5;28;01mcontinue\u001b[39;00m\n\u001b[32m    218\u001b[39m \u001b[38;5;28;01mif\u001b[39;00m \u001b[33m\"\u001b[39m\u001b[33mchartsheet\u001b[39m\u001b[33m\"\u001b[39m \u001b[38;5;129;01min\u001b[39;00m rel.Type:\n\u001b[32m--> \u001b[39m\u001b[32m219\u001b[39m     \u001b[38;5;28;43mself\u001b[39;49m\u001b[43m.\u001b[49m\u001b[43mread_chartsheet\u001b[49m\u001b[43m(\u001b[49m\u001b[43msheet\u001b[49m\u001b[43m,\u001b[49m\u001b[43m \u001b[49m\u001b[43mrel\u001b[49m\u001b[43m)\u001b[49m\n\u001b[32m    220\u001b[39m     \u001b[38;5;28;01mcontinue\u001b[39;00m\n\u001b[32m    222\u001b[39m rels_path = get_rels_path(rel.target)\n",
      "\u001b[36mFile \u001b[39m\u001b[32mc:\\Users\\Paulo Roberto\\Downloads\\myenv312\\Lib\\site-packages\\openpyxl\\reader\\excel.py:205\u001b[39m, in \u001b[36mExcelReader.read_chartsheet\u001b[39m\u001b[34m(self, sheet, rel)\u001b[39m\n\u001b[32m    202\u001b[39m cs.title = sheet.name\n\u001b[32m    203\u001b[39m \u001b[38;5;28mself\u001b[39m.wb._add_sheet(cs)\n\u001b[32m--> \u001b[39m\u001b[32m205\u001b[39m drawings = \u001b[43mrels\u001b[49m\u001b[43m.\u001b[49m\u001b[43mfind\u001b[49m(SpreadsheetDrawing._rel_type)\n\u001b[32m    206\u001b[39m \u001b[38;5;28;01mfor\u001b[39;00m rel \u001b[38;5;129;01min\u001b[39;00m drawings:\n\u001b[32m    207\u001b[39m     charts, images = find_images(\u001b[38;5;28mself\u001b[39m.archive, rel.target)\n",
      "\u001b[31mAttributeError\u001b[39m: 'list' object has no attribute 'find'"
     ]
    }
   ],
   "source": [
    " # Carregar o arquivo Excel\n",
    "wb = load_workbook(\"teste.xlsx\")\n",
    "print(\"Arquivo carregado com sucesso!\")"
   ]
  }
 ],
 "metadata": {
  "kernelspec": {
   "display_name": "Jupyter_Notebook_12",
   "language": "python",
   "name": "jupyter_notebook_12"
  },
  "language_info": {
   "codemirror_mode": {
    "name": "ipython",
    "version": 3
   },
   "file_extension": ".py",
   "mimetype": "text/x-python",
   "name": "python",
   "nbconvert_exporter": "python",
   "pygments_lexer": "ipython3",
   "version": "3.12.9"
  }
 },
 "nbformat": 4,
 "nbformat_minor": 2
}
